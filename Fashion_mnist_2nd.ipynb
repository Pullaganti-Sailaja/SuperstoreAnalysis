{
  "cells": [
    {
      "cell_type": "markdown",
      "metadata": {
        "id": "view-in-github",
        "colab_type": "text"
      },
      "source": [
        "<a href=\"https://colab.research.google.com/github/Pullaganti-Sailaja/SuperstoreAnalysis/blob/main/Fashion_mnist_2nd.ipynb\" target=\"_parent\"><img src=\"https://colab.research.google.com/assets/colab-badge.svg\" alt=\"Open In Colab\"/></a>"
      ]
    },
    {
      "cell_type": "code",
      "execution_count": null,
      "metadata": {
        "id": "d1-MoLabxeWT"
      },
      "outputs": [],
      "source": [
        "import tensorflow as tf\n",
        "from tensorflow import keras\n",
        "from tensorflow.keras import layers, models\n",
        "from tensorflow.keras.models import load_model\n",
        "import os"
      ]
    },
    {
      "cell_type": "code",
      "execution_count": null,
      "metadata": {
        "id": "j202TF4Cxzx2"
      },
      "outputs": [],
      "source": [
        "import numpy as np\n",
        "import matplotlib.pyplot as plt"
      ]
    },
    {
      "cell_type": "code",
      "execution_count": null,
      "metadata": {
        "colab": {
          "base_uri": "https://localhost:8080/"
        },
        "id": "acuYanCfymQ7",
        "outputId": "ca99a17d-5e7b-4424-90d0-dd3a8cc769a5"
      },
      "outputs": [
        {
          "name": "stdout",
          "output_type": "stream",
          "text": [
            "Downloading data from https://storage.googleapis.com/tensorflow/tf-keras-datasets/train-labels-idx1-ubyte.gz\n",
            "29515/29515 [==============================] - 0s 0us/step\n",
            "Downloading data from https://storage.googleapis.com/tensorflow/tf-keras-datasets/train-images-idx3-ubyte.gz\n",
            "26421880/26421880 [==============================] - 0s 0us/step\n",
            "Downloading data from https://storage.googleapis.com/tensorflow/tf-keras-datasets/t10k-labels-idx1-ubyte.gz\n",
            "5148/5148 [==============================] - 0s 0us/step\n",
            "Downloading data from https://storage.googleapis.com/tensorflow/tf-keras-datasets/t10k-images-idx3-ubyte.gz\n",
            "4422102/4422102 [==============================] - 0s 0us/step\n"
          ]
        }
      ],
      "source": [
        "# Fashion - MNIST - https://github.com/zalandoresearch/fashion-mnist\n",
        "fashion_mnist = keras.datasets.fashion_mnist\n",
        "\n",
        "(train_images, train_labels), (test_images, test_labels) = fashion_mnist.load_data()"
      ]
    },
    {
      "cell_type": "code",
      "execution_count": null,
      "metadata": {
        "id": "0GVIqyd2ysem"
      },
      "outputs": [],
      "source": [
        "class_names = ['T-shirt/top', 'Trouser', 'Pullover', 'Dress', 'Coat',\n",
        "               'Sandal', 'Shirt', 'Sneaker', 'Bag', 'Ankle boot']"
      ]
    },
    {
      "cell_type": "code",
      "execution_count": null,
      "metadata": {
        "colab": {
          "base_uri": "https://localhost:8080/"
        },
        "id": "-rXNHa_8zAhW",
        "outputId": "3080ae44-d8d8-408c-dc19-db49b6aeae5a"
      },
      "outputs": [
        {
          "data": {
            "text/plain": [
              "(60000, 28, 28)"
            ]
          },
          "execution_count": 6,
          "metadata": {},
          "output_type": "execute_result"
        }
      ],
      "source": [
        "train_images.shape"
      ]
    },
    {
      "cell_type": "code",
      "execution_count": null,
      "metadata": {
        "colab": {
          "base_uri": "https://localhost:8080/"
        },
        "id": "x-pD8-dOzEIR",
        "outputId": "339552d0-81a5-4985-bd1d-7559376898ac"
      },
      "outputs": [
        {
          "data": {
            "text/plain": [
              "(60000,)"
            ]
          },
          "execution_count": 7,
          "metadata": {},
          "output_type": "execute_result"
        }
      ],
      "source": [
        "train_labels.shape"
      ]
    },
    {
      "cell_type": "code",
      "execution_count": null,
      "metadata": {
        "colab": {
          "base_uri": "https://localhost:8080/"
        },
        "id": "Lg6i5FT6zEei",
        "outputId": "1c8c3216-3531-4107-a7bc-0499296f376d"
      },
      "outputs": [
        {
          "data": {
            "text/plain": [
              "(10000, 28, 28)"
            ]
          },
          "execution_count": 8,
          "metadata": {},
          "output_type": "execute_result"
        }
      ],
      "source": [
        "test_images.shape"
      ]
    },
    {
      "cell_type": "code",
      "execution_count": null,
      "metadata": {
        "colab": {
          "base_uri": "https://localhost:8080/"
        },
        "id": "ob6SxXu0zJ99",
        "outputId": "2967c31d-cd38-4344-faa1-5bd24201271d"
      },
      "outputs": [
        {
          "data": {
            "text/plain": [
              "(10000,)"
            ]
          },
          "execution_count": 9,
          "metadata": {},
          "output_type": "execute_result"
        }
      ],
      "source": [
        "test_labels.shape"
      ]
    },
    {
      "cell_type": "code",
      "execution_count": null,
      "metadata": {
        "colab": {
          "base_uri": "https://localhost:8080/",
          "height": 447
        },
        "id": "s4I2zUjzzRiQ",
        "outputId": "f3785bc1-f73b-4bdd-8897-464cc8c9ec6d"
      },
      "outputs": [
        {
          "data": {
            "text/plain": [
              "<matplotlib.image.AxesImage at 0x79f0503301f0>"
            ]
          },
          "execution_count": 10,
          "metadata": {},
          "output_type": "execute_result"
        },
        {
          "data": {
            "image/png": "[encoded data removed]",
            "text/plain": [
              "<Figure size 640x480 with 1 Axes>"
            ]
          },
          "metadata": {},
          "output_type": "display_data"
        }
      ],
      "source": [
        "plt.figure()\n",
        "plt.imshow(np.squeeze(train_images[220]))"
      ]
    },
    {
      "cell_type": "code",
      "execution_count": null,
      "metadata": {
        "colab": {
          "base_uri": "https://localhost:8080/"
        },
        "id": "udDZwFiOzVfc",
        "outputId": "455a7257-8c93-4778-a894-bb7b1833f155"
      },
      "outputs": [
        {
          "data": {
            "text/plain": [
              "8"
            ]
          },
          "execution_count": 11,
          "metadata": {},
          "output_type": "execute_result"
        }
      ],
      "source": [
        "train_labels[220]"
      ]
    },
    {
      "cell_type": "code",
      "execution_count": null,
      "metadata": {
        "colab": {
          "base_uri": "https://localhost:8080/",
          "height": 430
        },
        "id": "7olMxyl6zY8b",
        "outputId": "f828afbf-5b3f-4ae0-f2bd-a2b31ec7440b"
      },
      "outputs": [
        {
          "data": {
            "image/png": "[encoded data removed]",
            "text/plain": [
              "<Figure size 1000x1000 with 15 Axes>"
            ]
          },
          "metadata": {},
          "output_type": "display_data"
        }
      ],
      "source": [
        "# Let us plot some training images to see how they look\n",
        "plt.figure(figsize=(10,10))\n",
        "for i in range(15):\n",
        "    plt.subplot(5,5,i+1)\n",
        "    plt.xticks([])\n",
        "    plt.yticks([])\n",
        "    plt.imshow(train_images[i], cmap=plt.cm.binary)\n",
        "    plt.xlabel(class_names[train_labels[i]])\n",
        "plt.show()\n"
      ]
    },
    {
      "cell_type": "code",
      "execution_count": null,
      "metadata": {
        "id": "tKBFmDqjzc2_"
      },
      "outputs": [],
      "source": [
        "train_images = train_images.reshape((60000, 28, 28, 1))\n",
        "test_images = test_images.reshape((10000, 28, 28, 1))"
      ]
    },
    {
      "cell_type": "code",
      "execution_count": null,
      "metadata": {
        "id": "J8BlgfQzzgno"
      },
      "outputs": [],
      "source": [
        "train_images_norm = train_images / 255.0"
      ]
    },
    {
      "cell_type": "code",
      "execution_count": null,
      "metadata": {
        "id": "uexYAm2-zkOo"
      },
      "outputs": [],
      "source": [
        "test_images_norm = test_images / 255.0"
      ]
    },
    {
      "cell_type": "code",
      "execution_count": null,
      "metadata": {
        "id": "rTU-9wXXznw4"
      },
      "outputs": [],
      "source": [
        "# First convolutional layer.\n",
        "# Number of neurons = 32\n",
        "# filter(kernel) size = 3x3\n",
        "# Activation function = Relu\n",
        "# input data (images) size (height, width, channels) = (28, 28, 1)\n",
        "# Channels is 'colors' here. Since fashion MNIST images are grayscale, number of colors = 1, hence, channels = 1\n",
        "\n",
        "conv1 = layers.Conv2D(32, (3,3), activation='relu', input_shape=(28,28,1) )"
      ]
    },
    {
      "cell_type": "code",
      "execution_count": null,
      "metadata": {
        "id": "CNYzhdhVzvhc"
      },
      "outputs": [],
      "source": [
        "# Second convolutional layer.\n",
        "# Number of neurons = 64\n",
        "# filter(kernel) size = 3x3\n",
        "# Activation function = Relu\n",
        "# No separate input data for this layer, input to this layer are the 'weights' of the conv1 layer featureMaps\n",
        "# no need to specify explicitly the input to the other convolutional layers (except for the first layer, as above)\n",
        "\n",
        "conv2 = layers.Conv2D(64, (3,3), activation='relu')"
      ]
    },
    {
      "cell_type": "code",
      "execution_count": null,
      "metadata": {
        "id": "uOJQ07YwzzJ_"
      },
      "outputs": [],
      "source": [
        "# Second convolutional layer.\n",
        "# Number of neurons = 128\n",
        "# filter(kernel) size = 3x3\n",
        "# Activation function = Relu\n",
        "# No separate input data for this layer, input to this layer are the 'weights' of the conv2 layer featureMaps\n",
        "# no need to specify explicitly the input to the other convolutional layers (except for the first layer, as above)\n",
        "\n",
        "conv3 = layers.Conv2D(128, (3,3), activation='relu')"
      ]
    },
    {
      "cell_type": "code",
      "execution_count": null,
      "metadata": {
        "id": "XEZx--oLz3_c"
      },
      "outputs": [],
      "source": [
        "# Max Pool Layer\n",
        "# Since input to CNN is a 2-D image and ouput from last convolutional layer (featuerMap) is also 2-D array\n",
        "# (except the third dimension i.e. channels), we will use 2D version of Max Pooling function of TensorFlow Keras\n",
        "# to create a Max Pooling Layer, as shown below filter (kernel) size for Pooling Layer = 2x2\n",
        "\n",
        "#Creating first Max. Pooling Layer\n",
        "max_pool_1 = layers.MaxPooling2D((2,2))\n",
        "\n",
        "#Creating second Max. Pooling Layer\n",
        "max_pool_2 = layers.MaxPooling2D((2,2))\n",
        "\n",
        "#Creating third Max. Pooling Layer\n",
        "max_pool_3 = layers.MaxPooling2D((2,2))\n"
      ]
    },
    {
      "cell_type": "code",
      "execution_count": null,
      "metadata": {
        "id": "ltNZ_Ymez7_W"
      },
      "outputs": [],
      "source": [
        "# Fully Connected (FC) Layer i.e. hidden layer expects input in 1-D format (1-D array), hence, we need to convert\n",
        "# 2-D output (2-D array) of last convolutional layer (conv3) to 1-D array i.e. we need to flatten the 2-D array\n",
        "# to 1-D array\n",
        "\n",
        "flat_layer = layers.Flatten()\n"
      ]
    },
    {
      "cell_type": "code",
      "execution_count": null,
      "metadata": {
        "id": "WVm74tdtz_-l"
      },
      "outputs": [],
      "source": [
        "# Fully Connected (FC) Layer - Hidden(Dense) Layer\n",
        "# Normally, the number of neurons that we keep in FC layer should be equal to the number of neurons in just\n",
        "# immediate previous convolutional layer\n",
        "\n",
        "fc = layers.Dense(128, activation='relu')"
      ]
    },
    {
      "cell_type": "code",
      "execution_count": null,
      "metadata": {
        "id": "fAV4f_Yw0Dgn"
      },
      "outputs": [],
      "source": [
        "# Output Layer - with 10 neurons (as we have 10 output classes) and using 'softmax' function\n",
        "\n",
        "output = layers.Dense(10, 'softmax')"
      ]
    },
    {
      "cell_type": "code",
      "execution_count": null,
      "metadata": {
        "id": "1a36gbVJ0HR5"
      },
      "outputs": [],
      "source": [
        "# TensorFlow Keras uses Keras Sequential API\n",
        "\n",
        "model = models.Sequential()\n",
        "\n",
        "model.add(conv1)\n",
        "model.add(conv2)\n",
        "model.add(conv3)\n",
        "model.add(max_pool_1)\n",
        "model.add(flat_layer)\n",
        "model.add(fc)\n",
        "model.add(output)"
      ]
    },
    {
      "cell_type": "code",
      "execution_count": null,
      "metadata": {
        "colab": {
          "base_uri": "https://localhost:8080/"
        },
        "id": "mzxc8WUS0K9k",
        "outputId": "ffd52267-8882-42f4-b9f5-187b59bb3331"
      },
      "outputs": [
        {
          "name": "stdout",
          "output_type": "stream",
          "text": [
            "Model: \"sequential\"\n",
            "_________________________________________________________________\n",
            " Layer (type)                Output Shape              Param #   \n",
            "=================================================================\n",
            " conv2d (Conv2D)             (None, 26, 26, 32)        320       \n",
            "                                                                 \n",
            " conv2d_1 (Conv2D)           (None, 24, 24, 64)        18496     \n",
            "                                                                 \n",
            " conv2d_2 (Conv2D)           (None, 22, 22, 128)       73856     \n",
            "                                                                 \n",
            " max_pooling2d (MaxPooling2  (None, 11, 11, 128)       0         \n",
            " D)                                                              \n",
            "                                                                 \n",
            " flatten (Flatten)           (None, 15488)             0         \n",
            "                                                                 \n",
            " dense (Dense)               (None, 128)               1982592   \n",
            "                                                                 \n",
            " dense_1 (Dense)             (None, 10)                1290      \n",
            "                                                                 \n",
            "=================================================================\n",
            "Total params: 2076554 (7.92 MB)\n",
            "Trainable params: 2076554 (7.92 MB)\n",
            "Non-trainable params: 0 (0.00 Byte)\n",
            "_________________________________________________________________\n"
          ]
        }
      ],
      "source": [
        "# Let us see what all layers our model has\n",
        "\n",
        "model.summary()"
      ]
    },
    {
      "cell_type": "code",
      "execution_count": null,
      "metadata": {
        "id": "OqM72o610RNe"
      },
      "outputs": [],
      "source": [
        "model.compile(optimizer='adam',\n",
        "              loss='sparse_categorical_crossentropy',\n",
        "              metrics=['accuracy'])"
      ]
    },
    {
      "cell_type": "code",
      "execution_count": 28,
      "metadata": {
        "colab": {
          "base_uri": "https://localhost:8080/"
        },
        "id": "dK76Bejt0VdK",
        "outputId": "1ba75608-f13c-48b7-e872-415b8e93941a"
      },
      "outputs": [
        {
          "output_type": "stream",
          "name": "stdout",
          "text": [
            "Epoch 1/20\n",
            "106/106 [==============================] - 442s 4s/step - loss: 0.0143 - accuracy: 0.9951 - val_loss: 0.4496 - val_accuracy: 0.9233\n",
            "Epoch 2/20\n",
            "106/106 [==============================] - 419s 4s/step - loss: 0.0205 - accuracy: 0.9929 - val_loss: 0.4102 - val_accuracy: 0.9255\n",
            "Epoch 3/20\n",
            "106/106 [==============================] - 420s 4s/step - loss: 0.0123 - accuracy: 0.9958 - val_loss: 0.4638 - val_accuracy: 0.9237\n",
            "Epoch 4/20\n",
            "106/106 [==============================] - 404s 4s/step - loss: 0.0151 - accuracy: 0.9950 - val_loss: 0.4571 - val_accuracy: 0.9180\n",
            "Epoch 5/20\n",
            "106/106 [==============================] - 415s 4s/step - loss: 0.0129 - accuracy: 0.9958 - val_loss: 0.4727 - val_accuracy: 0.9223\n",
            "Epoch 6/20\n",
            "106/106 [==============================] - 410s 4s/step - loss: 0.0102 - accuracy: 0.9969 - val_loss: 0.4873 - val_accuracy: 0.9198\n",
            "Epoch 7/20\n",
            "106/106 [==============================] - 412s 4s/step - loss: 0.0086 - accuracy: 0.9974 - val_loss: 0.4928 - val_accuracy: 0.9247\n",
            "Epoch 8/20\n",
            "106/106 [==============================] - 412s 4s/step - loss: 0.0043 - accuracy: 0.9988 - val_loss: 0.5505 - val_accuracy: 0.9202\n",
            "Epoch 9/20\n",
            "106/106 [==============================] - 415s 4s/step - loss: 0.0126 - accuracy: 0.9953 - val_loss: 0.5283 - val_accuracy: 0.9200\n",
            "Epoch 10/20\n",
            "106/106 [==============================] - 407s 4s/step - loss: 0.0084 - accuracy: 0.9974 - val_loss: 0.5159 - val_accuracy: 0.9212\n",
            "Epoch 11/20\n",
            "106/106 [==============================] - 413s 4s/step - loss: 0.0078 - accuracy: 0.9972 - val_loss: 0.5406 - val_accuracy: 0.9250\n",
            "Epoch 12/20\n",
            "106/106 [==============================] - 405s 4s/step - loss: 0.0085 - accuracy: 0.9972 - val_loss: 0.5520 - val_accuracy: 0.9192\n",
            "Epoch 13/20\n",
            "106/106 [==============================] - 421s 4s/step - loss: 0.0107 - accuracy: 0.9963 - val_loss: 0.5242 - val_accuracy: 0.9222\n",
            "Epoch 14/20\n",
            "106/106 [==============================] - 429s 4s/step - loss: 0.0050 - accuracy: 0.9985 - val_loss: 0.5698 - val_accuracy: 0.9165\n",
            "Epoch 15/20\n",
            "106/106 [==============================] - 408s 4s/step - loss: 0.0142 - accuracy: 0.9951 - val_loss: 0.5908 - val_accuracy: 0.9190\n",
            "Epoch 16/20\n",
            "106/106 [==============================] - 402s 4s/step - loss: 0.0083 - accuracy: 0.9974 - val_loss: 0.5813 - val_accuracy: 0.9222\n",
            "Epoch 17/20\n",
            "106/106 [==============================] - 412s 4s/step - loss: 0.0058 - accuracy: 0.9981 - val_loss: 0.5615 - val_accuracy: 0.9218\n",
            "Epoch 18/20\n",
            "106/106 [==============================] - 413s 4s/step - loss: 0.0052 - accuracy: 0.9982 - val_loss: 0.5793 - val_accuracy: 0.9237\n",
            "Epoch 19/20\n",
            "106/106 [==============================] - 406s 4s/step - loss: 0.0054 - accuracy: 0.9983 - val_loss: 0.5528 - val_accuracy: 0.9228\n",
            "Epoch 20/20\n",
            "106/106 [==============================] - 406s 4s/step - loss: 0.0049 - accuracy: 0.9986 - val_loss: 0.5960 - val_accuracy: 0.9255\n"
          ]
        },
        {
          "output_type": "execute_result",
          "data": {
            "text/plain": [
              "<keras.src.callbacks.History at 0x79f02caa16f0>"
            ]
          },
          "metadata": {},
          "execution_count": 28
        }
      ],
      "source": [
        "# we are using the normalized input data\n",
        "\n",
        "# Let us perform 20 epochs with batch_size as 512, and with shuffling = true\n",
        "\n",
        "# shuffle=true will shuffle the indexes of the instances in order to allocate different sets of instances\n",
        "# in validation dataset each time cross-validation runs\n",
        "\n",
        "# validation split=0.1 means a validation dataset of size of 10% is created from the training dataset for cross validation\n",
        "\n",
        "model.fit(train_images_norm, train_labels, epochs=20, batch_size=512, shuffle=True, validation_split=0.1)"
      ]
    },
    {
      "cell_type": "code",
      "source": [
        "# we are using the normalized input data\n",
        "test_loss, test_accuracy = model.evaluate(test_images_norm, test_labels)"
      ],
      "metadata": {
        "colab": {
          "base_uri": "https://localhost:8080/"
        },
        "id": "Q43T_LsX0OXD",
        "outputId": "a3fbda3b-259f-46b9-8dba-14ceee4c621c"
      },
      "execution_count": 29,
      "outputs": [
        {
          "output_type": "stream",
          "name": "stdout",
          "text": [
            "313/313 [==============================] - 21s 67ms/step - loss: 0.6480 - accuracy: 0.9201\n"
          ]
        }
      ]
    },
    {
      "cell_type": "code",
      "source": [
        "print(test_accuracy)"
      ],
      "metadata": {
        "colab": {
          "base_uri": "https://localhost:8080/",
          "height": 141
        },
        "id": "3CQFZiEN0bRz",
        "outputId": "bc731f7c-b844-4adf-cf14-14e68661ec96"
      },
      "execution_count": 9,
      "outputs": [
        {
          "output_type": "error",
          "ename": "NameError",
          "evalue": "name 'test_accuracy' is not defined",
          "traceback": [
            "\u001b[0;31m---------------------------------------------------------------------------\u001b[0m",
            "\u001b[0;31mNameError\u001b[0m                                 Traceback (most recent call last)",
            "\u001b[0;32m<ipython-input-9-14dbe998787e>\u001b[0m in \u001b[0;36m<cell line: 1>\u001b[0;34m()\u001b[0m\n\u001b[0;32m----> 1\u001b[0;31m \u001b[0mprint\u001b[0m\u001b[0;34m(\u001b[0m\u001b[0mtest_accuracy\u001b[0m\u001b[0;34m)\u001b[0m\u001b[0;34m\u001b[0m\u001b[0;34m\u001b[0m\u001b[0m\n\u001b[0m",
            "\u001b[0;31mNameError\u001b[0m: name 'test_accuracy' is not defined"
          ]
        }
      ]
    },
    {
      "cell_type": "code",
      "source": [
        "# Creating first dropout layer (for the first Conv. layer 'conv1')\n",
        "drop_1 = keras.layers.Dropout(0.5)\n",
        "# Creating second dropout layer (for the second Conv. layer 'conv2')\n",
        "drop_2 = keras.layers.Dropout(0.5)\n",
        "# Creating third dropout layer (for the third Conv. layer 'conv3')\n",
        "drop_3 = keras.layers.Dropout(0.5)"
      ],
      "metadata": {
        "id": "NnPbAQZx0iux"
      },
      "execution_count": 31,
      "outputs": []
    },
    {
      "cell_type": "code",
      "source": [
        "from keras.models import Sequential\n",
        "from keras.layers import Conv2D, MaxPooling2D, Flatten, Dense, Dropout"
      ],
      "metadata": {
        "id": "mHWQGyNZ1OHr"
      },
      "execution_count": 35,
      "outputs": []
    },
    {
      "cell_type": "code",
      "source": [
        "fc= Dense(128, activation='relu')"
      ],
      "metadata": {
        "id": "mgLlv0A_1UR4"
      },
      "execution_count": 37,
      "outputs": []
    },
    {
      "cell_type": "code",
      "source": [
        "new_model.add(fc)"
      ],
      "metadata": {
        "id": "I4YJ9v561ayd"
      },
      "execution_count": 38,
      "outputs": []
    },
    {
      "cell_type": "code",
      "source": [
        "# Let us create a new neural network by applying these above created Dropout Layers to the respecive convolutional Layers\n",
        "\n",
        "# Please note that the Dropout layer for all the convolutional layers will be applied after the pooling layer (max. pool layer)\n",
        "\n",
        "new_model = models.Sequential()\n",
        "\n",
        "new_model.add(conv1)\n",
        "# No Pooling Layer and Dropout layer for first Convolutional layer 'conv1'\n",
        "new_model.add(conv2)\n",
        "new_model.add(max_pool_2)\n",
        "new_model.add(drop_2)\n",
        "new_model.add(conv3)\n",
        "new_model.add(max_pool_3)\n",
        "new_model.add(drop_3)\n",
        "new_model.add(flat_layer)\n",
        "new_model.add(fc)\n",
        "new_model.add(output)"
      ],
      "metadata": {
        "id": "45JUaEq51rDW"
      },
      "execution_count": 39,
      "outputs": []
    },
    {
      "cell_type": "code",
      "source": [
        "new_model.summary()"
      ],
      "metadata": {
        "colab": {
          "base_uri": "https://localhost:8080/"
        },
        "id": "j24YJ9r71vtO",
        "outputId": "96dc5355-7a69-4b57-d30c-d9670d63bbc1"
      },
      "execution_count": 40,
      "outputs": [
        {
          "output_type": "stream",
          "name": "stdout",
          "text": [
            "Model: \"sequential_4\"\n",
            "_________________________________________________________________\n",
            " Layer (type)                Output Shape              Param #   \n",
            "=================================================================\n",
            " conv2d (Conv2D)             (None, 26, 26, 32)        320       \n",
            "                                                                 \n",
            " conv2d_1 (Conv2D)           (None, 24, 24, 64)        18496     \n",
            "                                                                 \n",
            " max_pooling2d_1 (MaxPoolin  (None, 12, 12, 64)        0         \n",
            " g2D)                                                            \n",
            "                                                                 \n",
            " dropout_1 (Dropout)         (None, 12, 12, 64)        0         \n",
            "                                                                 \n",
            " conv2d_2 (Conv2D)           multiple                  73856     \n",
            "                                                                 \n",
            " max_pooling2d_2 (MaxPoolin  (None, 5, 5, 128)         0         \n",
            " g2D)                                                            \n",
            "                                                                 \n",
            " dropout_2 (Dropout)         (None, 5, 5, 128)         0         \n",
            "                                                                 \n",
            " flatten (Flatten)           multiple                  0         \n",
            "                                                                 \n",
            " dense_3 (Dense)             (None, 128)               409728    \n",
            "                                                                 \n",
            " dense_1 (Dense)             (None, 10)                1290      \n",
            "                                                                 \n",
            "=================================================================\n",
            "Total params: 503690 (1.92 MB)\n",
            "Trainable params: 503690 (1.92 MB)\n",
            "Non-trainable params: 0 (0.00 Byte)\n",
            "_________________________________________________________________\n"
          ]
        }
      ]
    },
    {
      "cell_type": "code",
      "source": [
        "new_model.compile(optimizer='adam',\n",
        "              loss='sparse_categorical_crossentropy',\n",
        "              metrics=['accuracy'])"
      ],
      "metadata": {
        "colab": {
          "base_uri": "https://localhost:8080/",
          "height": 176
        },
        "id": "acJMMz-V10l-",
        "outputId": "8ab217a5-bcf2-4b48-e6ea-eb5f7867bd2c"
      },
      "execution_count": 7,
      "outputs": [
        {
          "output_type": "error",
          "ename": "NameError",
          "evalue": "name 'new_model' is not defined",
          "traceback": [
            "\u001b[0;31m---------------------------------------------------------------------------\u001b[0m",
            "\u001b[0;31mNameError\u001b[0m                                 Traceback (most recent call last)",
            "\u001b[0;32m<ipython-input-7-40ac433d07c5>\u001b[0m in \u001b[0;36m<cell line: 1>\u001b[0;34m()\u001b[0m\n\u001b[0;32m----> 1\u001b[0;31m new_model.compile(optimizer='adam',\n\u001b[0m\u001b[1;32m      2\u001b[0m               \u001b[0mloss\u001b[0m\u001b[0;34m=\u001b[0m\u001b[0;34m'sparse_categorical_crossentropy'\u001b[0m\u001b[0;34m,\u001b[0m\u001b[0;34m\u001b[0m\u001b[0;34m\u001b[0m\u001b[0m\n\u001b[1;32m      3\u001b[0m               metrics=['accuracy'])\n",
            "\u001b[0;31mNameError\u001b[0m: name 'new_model' is not defined"
          ]
        }
      ]
    },
    {
      "cell_type": "code",
      "source": [
        "# Let us perform 30 epochs with batch_size as 512, and with shuffling = true\n",
        "\n",
        "# shuffle=true will shuffle the indexes of the instances in order to allocate different sets of instances\n",
        "# in validation dataset each time cross-validation runs\n",
        "\n",
        "# validation split=0.1 means a validation dataset of size of 10% is created from the training dataset for cross validation\n",
        "\n",
        "new_model.fit(train_images_norm, train_labels, epochs=30, batch_size=512, shuffle=True, validation_split=0.1)"
      ],
      "metadata": {
        "colab": {
          "base_uri": "https://localhost:8080/"
        },
        "id": "QpiwGV5C14_O",
        "outputId": "89b81dcf-99ea-4723-c737-150597a34e78"
      },
      "execution_count": 42,
      "outputs": [
        {
          "output_type": "stream",
          "name": "stdout",
          "text": [
            "Epoch 1/30\n",
            "106/106 [==============================] - 196s 2s/step - loss: 0.5323 - accuracy: 0.8113 - val_loss: 0.3111 - val_accuracy: 0.8892\n",
            "Epoch 2/30\n",
            "106/106 [==============================] - 194s 2s/step - loss: 0.3287 - accuracy: 0.8803 - val_loss: 0.2741 - val_accuracy: 0.9018\n",
            "Epoch 3/30\n",
            "106/106 [==============================] - 192s 2s/step - loss: 0.2888 - accuracy: 0.8940 - val_loss: 0.2506 - val_accuracy: 0.9098\n",
            "Epoch 4/30\n",
            "106/106 [==============================] - 197s 2s/step - loss: 0.2691 - accuracy: 0.8996 - val_loss: 0.2396 - val_accuracy: 0.9130\n",
            "Epoch 5/30\n",
            "106/106 [==============================] - 195s 2s/step - loss: 0.2542 - accuracy: 0.9061 - val_loss: 0.2427 - val_accuracy: 0.9113\n",
            "Epoch 6/30\n",
            "106/106 [==============================] - 195s 2s/step - loss: 0.2418 - accuracy: 0.9089 - val_loss: 0.2267 - val_accuracy: 0.9170\n",
            "Epoch 7/30\n",
            "106/106 [==============================] - 198s 2s/step - loss: 0.2296 - accuracy: 0.9155 - val_loss: 0.2181 - val_accuracy: 0.9207\n",
            "Epoch 8/30\n",
            "106/106 [==============================] - 198s 2s/step - loss: 0.2203 - accuracy: 0.9175 - val_loss: 0.2152 - val_accuracy: 0.9210\n",
            "Epoch 9/30\n",
            "106/106 [==============================] - 195s 2s/step - loss: 0.2153 - accuracy: 0.9179 - val_loss: 0.2070 - val_accuracy: 0.9235\n",
            "Epoch 10/30\n",
            "106/106 [==============================] - 191s 2s/step - loss: 0.2047 - accuracy: 0.9244 - val_loss: 0.2101 - val_accuracy: 0.9222\n",
            "Epoch 11/30\n",
            "106/106 [==============================] - 190s 2s/step - loss: 0.2013 - accuracy: 0.9245 - val_loss: 0.2127 - val_accuracy: 0.9232\n",
            "Epoch 12/30\n",
            "106/106 [==============================] - 197s 2s/step - loss: 0.1927 - accuracy: 0.9281 - val_loss: 0.2007 - val_accuracy: 0.9253\n",
            "Epoch 13/30\n",
            "106/106 [==============================] - 190s 2s/step - loss: 0.1862 - accuracy: 0.9293 - val_loss: 0.2041 - val_accuracy: 0.9233\n",
            "Epoch 14/30\n",
            "106/106 [==============================] - 189s 2s/step - loss: 0.1806 - accuracy: 0.9310 - val_loss: 0.1988 - val_accuracy: 0.9253\n",
            "Epoch 15/30\n",
            "106/106 [==============================] - 195s 2s/step - loss: 0.1740 - accuracy: 0.9356 - val_loss: 0.2105 - val_accuracy: 0.9243\n",
            "Epoch 16/30\n",
            "106/106 [==============================] - 191s 2s/step - loss: 0.1715 - accuracy: 0.9364 - val_loss: 0.1910 - val_accuracy: 0.9295\n",
            "Epoch 17/30\n",
            "106/106 [==============================] - 190s 2s/step - loss: 0.1662 - accuracy: 0.9371 - val_loss: 0.1919 - val_accuracy: 0.9280\n",
            "Epoch 18/30\n",
            "106/106 [==============================] - 189s 2s/step - loss: 0.1606 - accuracy: 0.9405 - val_loss: 0.1887 - val_accuracy: 0.9300\n",
            "Epoch 19/30\n",
            "106/106 [==============================] - 190s 2s/step - loss: 0.1586 - accuracy: 0.9392 - val_loss: 0.1892 - val_accuracy: 0.9303\n",
            "Epoch 20/30\n",
            "106/106 [==============================] - 194s 2s/step - loss: 0.1553 - accuracy: 0.9415 - val_loss: 0.1863 - val_accuracy: 0.9307\n",
            "Epoch 21/30\n",
            "106/106 [==============================] - 195s 2s/step - loss: 0.1515 - accuracy: 0.9426 - val_loss: 0.1845 - val_accuracy: 0.9342\n",
            "Epoch 22/30\n",
            "106/106 [==============================] - 194s 2s/step - loss: 0.1457 - accuracy: 0.9443 - val_loss: 0.1894 - val_accuracy: 0.9298\n",
            "Epoch 23/30\n",
            "106/106 [==============================] - 190s 2s/step - loss: 0.1455 - accuracy: 0.9436 - val_loss: 0.1895 - val_accuracy: 0.9290\n",
            "Epoch 24/30\n",
            "106/106 [==============================] - 190s 2s/step - loss: 0.1418 - accuracy: 0.9460 - val_loss: 0.1876 - val_accuracy: 0.9308\n",
            "Epoch 25/30\n",
            "106/106 [==============================] - 190s 2s/step - loss: 0.1359 - accuracy: 0.9492 - val_loss: 0.1878 - val_accuracy: 0.9315\n",
            "Epoch 26/30\n",
            "106/106 [==============================] - 197s 2s/step - loss: 0.1341 - accuracy: 0.9485 - val_loss: 0.1891 - val_accuracy: 0.9328\n",
            "Epoch 27/30\n",
            "106/106 [==============================] - 193s 2s/step - loss: 0.1315 - accuracy: 0.9488 - val_loss: 0.1862 - val_accuracy: 0.9313\n",
            "Epoch 28/30\n",
            "106/106 [==============================] - 193s 2s/step - loss: 0.1269 - accuracy: 0.9515 - val_loss: 0.1905 - val_accuracy: 0.9323\n",
            "Epoch 29/30\n",
            "106/106 [==============================] - 197s 2s/step - loss: 0.1251 - accuracy: 0.9524 - val_loss: 0.1864 - val_accuracy: 0.9345\n",
            "Epoch 30/30\n",
            "106/106 [==============================] - 196s 2s/step - loss: 0.1239 - accuracy: 0.9530 - val_loss: 0.1920 - val_accuracy: 0.9338\n"
          ]
        },
        {
          "output_type": "execute_result",
          "data": {
            "text/plain": [
              "<keras.src.callbacks.History at 0x79f02caa39a0>"
            ]
          },
          "metadata": {},
          "execution_count": 42
        }
      ]
    },
    {
      "cell_type": "code",
      "source": [
        "test_loss, test_accuracy = new_model.evaluate(test_images_norm, test_labels)"
      ],
      "metadata": {
        "id": "dGbdFXRONJeU",
        "outputId": "07b0d562-0736-4ccd-a699-61edbcb060fb",
        "colab": {
          "base_uri": "https://localhost:8080/"
        }
      },
      "execution_count": 43,
      "outputs": [
        {
          "output_type": "stream",
          "name": "stdout",
          "text": [
            "313/313 [==============================] - 9s 30ms/step - loss: 0.2047 - accuracy: 0.9304\n"
          ]
        }
      ]
    },
    {
      "cell_type": "code",
      "source": [
        "print(test_accuracy)"
      ],
      "metadata": {
        "id": "j8wuAZQ9NTPO",
        "outputId": "e102d06c-e954-4310-f9d1-4f6fec905a46",
        "colab": {
          "base_uri": "https://localhost:8080/"
        }
      },
      "execution_count": 44,
      "outputs": [
        {
          "output_type": "stream",
          "name": "stdout",
          "text": [
            "0.930400013923645\n"
          ]
        }
      ]
    },
    {
      "cell_type": "code",
      "source": [
        "print(test_loss)"
      ],
      "metadata": {
        "id": "JemY3eNTNWdu",
        "outputId": "a80bbbdf-f929-4dcd-c891-9a522303b72a",
        "colab": {
          "base_uri": "https://localhost:8080/"
        }
      },
      "execution_count": 45,
      "outputs": [
        {
          "output_type": "stream",
          "name": "stdout",
          "text": [
            "0.2047303169965744\n"
          ]
        }
      ]
    },
    {
      "cell_type": "code",
      "source": [
        "print(new_model.history.history.keys())"
      ],
      "metadata": {
        "id": "5zdG2LbLNbPK",
        "outputId": "caa8de1e-99ad-4c02-88a4-ab1b8cee2b02",
        "colab": {
          "base_uri": "https://localhost:8080/",
          "height": 141
        }
      },
      "execution_count": 10,
      "outputs": [
        {
          "output_type": "error",
          "ename": "NameError",
          "evalue": "name 'new_model' is not defined",
          "traceback": [
            "\u001b[0;31m---------------------------------------------------------------------------\u001b[0m",
            "\u001b[0;31mNameError\u001b[0m                                 Traceback (most recent call last)",
            "\u001b[0;32m<ipython-input-10-a5498bd89cef>\u001b[0m in \u001b[0;36m<cell line: 1>\u001b[0;34m()\u001b[0m\n\u001b[0;32m----> 1\u001b[0;31m \u001b[0mprint\u001b[0m\u001b[0;34m(\u001b[0m\u001b[0mnew_model\u001b[0m\u001b[0;34m.\u001b[0m\u001b[0mhistory\u001b[0m\u001b[0;34m.\u001b[0m\u001b[0mhistory\u001b[0m\u001b[0;34m.\u001b[0m\u001b[0mkeys\u001b[0m\u001b[0;34m(\u001b[0m\u001b[0;34m)\u001b[0m\u001b[0;34m)\u001b[0m\u001b[0;34m\u001b[0m\u001b[0;34m\u001b[0m\u001b[0m\n\u001b[0m",
            "\u001b[0;31mNameError\u001b[0m: name 'new_model' is not defined"
          ]
        }
      ]
    },
    {
      "cell_type": "code",
      "source": [
        "import matplotlib.pyplot as plt"
      ],
      "metadata": {
        "id": "Uk3DacrPPDDE"
      },
      "execution_count": 4,
      "outputs": []
    },
    {
      "cell_type": "code",
      "source": [
        "plt.plot(new_model.history.history['acc'])\n",
        "plt.plot(new_model.history.history['val_acc'])\n",
        "plt.title(\"Accuracy\")\n",
        "plt.ylabel(\"accuracy\")\n",
        "plt.xlabel(\"epoch\")\n",
        "plt.legend(['train', 'test'], loc='upper left')\n",
        "plt.show()"
      ],
      "metadata": {
        "id": "8KIoTG7WO5Zr",
        "outputId": "06f92953-0ffd-4191-98be-29a7cd4d266d",
        "colab": {
          "base_uri": "https://localhost:8080/",
          "height": 211
        }
      },
      "execution_count": 5,
      "outputs": [
        {
          "output_type": "error",
          "ename": "NameError",
          "evalue": "name 'new_model' is not defined",
          "traceback": [
            "\u001b[0;31m---------------------------------------------------------------------------\u001b[0m",
            "\u001b[0;31mNameError\u001b[0m                                 Traceback (most recent call last)",
            "\u001b[0;32m<ipython-input-5-941e64d754b7>\u001b[0m in \u001b[0;36m<cell line: 1>\u001b[0;34m()\u001b[0m\n\u001b[0;32m----> 1\u001b[0;31m \u001b[0mplt\u001b[0m\u001b[0;34m.\u001b[0m\u001b[0mplot\u001b[0m\u001b[0;34m(\u001b[0m\u001b[0mnew_model\u001b[0m\u001b[0;34m.\u001b[0m\u001b[0mhistory\u001b[0m\u001b[0;34m.\u001b[0m\u001b[0mhistory\u001b[0m\u001b[0;34m[\u001b[0m\u001b[0;34m'acc'\u001b[0m\u001b[0;34m]\u001b[0m\u001b[0;34m)\u001b[0m\u001b[0;34m\u001b[0m\u001b[0;34m\u001b[0m\u001b[0m\n\u001b[0m\u001b[1;32m      2\u001b[0m \u001b[0mplt\u001b[0m\u001b[0;34m.\u001b[0m\u001b[0mplot\u001b[0m\u001b[0;34m(\u001b[0m\u001b[0mnew_model\u001b[0m\u001b[0;34m.\u001b[0m\u001b[0mhistory\u001b[0m\u001b[0;34m.\u001b[0m\u001b[0mhistory\u001b[0m\u001b[0;34m[\u001b[0m\u001b[0;34m'val_acc'\u001b[0m\u001b[0;34m]\u001b[0m\u001b[0;34m)\u001b[0m\u001b[0;34m\u001b[0m\u001b[0;34m\u001b[0m\u001b[0m\n\u001b[1;32m      3\u001b[0m \u001b[0mplt\u001b[0m\u001b[0;34m.\u001b[0m\u001b[0mtitle\u001b[0m\u001b[0;34m(\u001b[0m\u001b[0;34m\"Accuracy\"\u001b[0m\u001b[0;34m)\u001b[0m\u001b[0;34m\u001b[0m\u001b[0;34m\u001b[0m\u001b[0m\n\u001b[1;32m      4\u001b[0m \u001b[0mplt\u001b[0m\u001b[0;34m.\u001b[0m\u001b[0mylabel\u001b[0m\u001b[0;34m(\u001b[0m\u001b[0;34m\"accuracy\"\u001b[0m\u001b[0;34m)\u001b[0m\u001b[0;34m\u001b[0m\u001b[0;34m\u001b[0m\u001b[0m\n\u001b[1;32m      5\u001b[0m \u001b[0mplt\u001b[0m\u001b[0;34m.\u001b[0m\u001b[0mxlabel\u001b[0m\u001b[0;34m(\u001b[0m\u001b[0;34m\"epoch\"\u001b[0m\u001b[0;34m)\u001b[0m\u001b[0;34m\u001b[0m\u001b[0;34m\u001b[0m\u001b[0m\n",
            "\u001b[0;31mNameError\u001b[0m: name 'new_model' is not defined"
          ]
        }
      ]
    }
  ],
  "metadata": {
    "colab": {
      "provenance": [],
      "authorship_tag": "ABX9TyPbfquC9KgkM0B22X8GPLjC",
      "include_colab_link": true
    },
    "kernelspec": {
      "display_name": "Python 3",
      "name": "python3"
    },
    "language_info": {
      "name": "python"
    }
  },
  "nbformat": 4,
  "nbformat_minor": 0
}